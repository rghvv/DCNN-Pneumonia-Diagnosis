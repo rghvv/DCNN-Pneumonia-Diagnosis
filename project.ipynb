{
 "cells": [
  {
   "cell_type": "markdown",
   "metadata": {},
   "source": [
    "## Import required libraries"
   ]
  },
  {
   "cell_type": "code",
   "execution_count": 1,
   "metadata": {
    "_cell_guid": "79c7e3d0-c299-4dcb-8224-4455121ee9b0",
    "_uuid": "d629ff2d2480ee46fbb7e2d37f6b5fab8052498a"
   },
   "outputs": [
    {
     "name": "stderr",
     "output_type": "stream",
     "text": [
      "Using TensorFlow backend.\n"
     ]
    }
   ],
   "source": [
    "import cv2\n",
    "from keras.models import Model\n",
    "from keras.callbacks import ModelCheckpoint, ReduceLROnPlateau\n",
    "from keras.layers import Conv2D, MaxPool2D, Input, Dense, Activation, Flatten, SeparableConv2D, Dropout, BatchNormalization\n",
    "from keras.preprocessing.image import ImageDataGenerator\n",
    "import matplotlib.pyplot as plt\n",
    "%matplotlib inline\n",
    "from mlxtend.plotting import plot_confusion_matrix\n",
    "import numpy as np\n",
    "import os\n",
    "import pandas as pd \n",
    "from sklearn.metrics import confusion_matrix"
   ]
  },
  {
   "cell_type": "markdown",
   "metadata": {},
   "source": [
    "## Preprocessing\n",
    "\n",
    "- Augment data (rescale, zoom, flip horizontally)\n",
    "- Create data generator for train/test/val split\n",
    "- Binarize testing labels"
   ]
  },
  {
   "cell_type": "code",
   "execution_count": 2,
   "metadata": {},
   "outputs": [],
   "source": [
    "def generate(px, batch_size):\n",
    "    '''\n",
    "    Creates generators for train/test/val splits to pull images from disk,\n",
    "    and applies various augmentations to the training and validation sets.\n",
    "    '''\n",
    "    \n",
    "    train_gen = ImageDataGenerator(\n",
    "        rescale = 1./255,\n",
    "        zoom_range = 0.3,\n",
    "        horizontal_flip = True).flow_from_directory(\n",
    "            directory = './train', \n",
    "            target_size = (px, px), \n",
    "            batch_size = batch_size, \n",
    "            class_mode = 'binary', \n",
    "            shuffle = True)\n",
    "\n",
    "    val_gen = ImageDataGenerator(\n",
    "        rescale = 1./255,\n",
    "        zoom_range = 0.3,\n",
    "        horizontal_flip = True).flow_from_directory(\n",
    "            directory = './val', \n",
    "            target_size = (px, px), \n",
    "            batch_size = batch_size, \n",
    "            class_mode = 'binary', \n",
    "            shuffle = True)\n",
    "        \n",
    "    test_gen = ImageDataGenerator().flow_from_directory(\n",
    "        directory = './test', \n",
    "        target_size = (px, px), \n",
    "        batch_size = batch_size, \n",
    "        class_mode = 'binary', \n",
    "        shuffle = True)\n",
    "\n",
    "    train_steps = train_gen.samples // batch_size\n",
    "    val_steps = val_gen.samples // batch_size\n",
    "    \n",
    "    return train_gen, val_gen, test_gen, train_steps, val_steps"
   ]
  },
  {
   "cell_type": "code",
   "execution_count": 3,
   "metadata": {},
   "outputs": [],
   "source": [
    "def prep_test(px):\n",
    "    '''\n",
    "    Prepares test data by creating two np arrays of the resized test images and binarized labels.\n",
    "    '''\n",
    "    test_data = []\n",
    "    test_labels = []\n",
    "\n",
    "    for dirname in ['/NORMAL/', '/PNEUMONIA/']:\n",
    "        for file in (os.listdir('./test' + dirname)):\n",
    "            image = cv2.resize(plt.imread('./test'+ dirname + file), (px, px))\n",
    "            \n",
    "            test_data.append(np.dstack([image, image, image]).astype('float32') / 255)\n",
    "            test_labels.append(0 if dirname == '/NORMAL/' else 1)\n",
    "\n",
    "    test_data = np.array(test_data)\n",
    "    test_labels = np.array(test_labels)\n",
    "    \n",
    "    return test_data, test_labels"
   ]
  },
  {
   "cell_type": "markdown",
   "metadata": {},
   "source": [
    "## Define Neural Network\n",
    "\n",
    "- Set random seed\n",
    "- Define hyperparameters\n",
    "- Construct neural network"
   ]
  },
  {
   "cell_type": "code",
   "execution_count": 4,
   "metadata": {},
   "outputs": [
    {
     "name": "stdout",
     "output_type": "stream",
     "text": [
      "Found 5216 images belonging to 2 classes.\n",
      "Found 16 images belonging to 2 classes.\n",
      "Found 624 images belonging to 2 classes.\n"
     ]
    }
   ],
   "source": [
    "np.random.seed(420)\n",
    "\n",
    "px = 150\n",
    "epochs = 10\n",
    "batch_size = 32\n",
    "\n",
    "train_gen, val_gen, test_gen, train_steps, val_steps = generate(px, batch_size)\n",
    "test_data, test_labels = prep_test(px)"
   ]
  },
  {
   "cell_type": "code",
   "execution_count": 5,
   "metadata": {},
   "outputs": [
    {
     "name": "stdout",
     "output_type": "stream",
     "text": [
      "WARNING:tensorflow:Large dropout rate: 0.7 (>0.5). In TensorFlow 2.x, dropout() uses dropout rate instead of keep_prob. Please ensure that this is intended.\n"
     ]
    }
   ],
   "source": [
    "input_layer = Input(shape=(px, px, 3))\n",
    "\n",
    "model = Conv2D(16, (3, 3), activation='relu', padding='same')(input_layer)\n",
    "model = Conv2D(16, (3, 3), activation='relu', padding='same')(model)\n",
    "model = MaxPool2D(pool_size=(2, 2))(model)\n",
    "\n",
    "model = SeparableConv2D(32, (3, 3), activation='relu', padding='same')(model)\n",
    "model = SeparableConv2D(32, (3, 3), activation='relu', padding='same')(model)\n",
    "model = BatchNormalization()(model)\n",
    "model = MaxPool2D(pool_size=(2, 2))(model)\n",
    "\n",
    "model = SeparableConv2D(64, (3, 3), activation='relu', padding='same')(model)\n",
    "model = SeparableConv2D(64, (3, 3), activation='relu', padding='same')(model)\n",
    "model = BatchNormalization()(model)\n",
    "model = MaxPool2D(pool_size=(2, 2))(model)\n",
    "\n",
    "model = SeparableConv2D(128, (3, 3), activation='relu', padding='same')(model)\n",
    "model = SeparableConv2D(128, (3, 3), activation='relu', padding='same')(model)\n",
    "model = BatchNormalization()(model)\n",
    "model = MaxPool2D(pool_size=(2, 2))(model)\n",
    "model = Dropout(rate=0.2)(model)\n",
    "\n",
    "model = SeparableConv2D(256, (3, 3), activation='relu', padding='same')(model)\n",
    "model = SeparableConv2D(256, (3, 3), activation='relu', padding='same')(model)\n",
    "model = BatchNormalization()(model)\n",
    "model = MaxPool2D(pool_size=(2, 2))(model)\n",
    "model = Dropout(rate=0.2)(model)\n",
    "\n",
    "model = Flatten()(model)\n",
    "model = Dense(units=512, activation='relu')(model)\n",
    "model = Dropout(rate=0.7)(model)\n",
    "model = Dense(units=128, activation='relu')(model)\n",
    "model = Dropout(rate=0.5)(model)\n",
    "model = Dense(units=64, activation='relu')(model)\n",
    "model = Dropout(rate=0.3)(model)\n",
    "\n",
    "output_layer = Dense(units=1, activation='sigmoid')(model)\n",
    "\n",
    "model = Model(inputs=input_layer, outputs=output_layer)\n",
    "model.compile(optimizer='adam', loss='binary_crossentropy', metrics=['accuracy'])"
   ]
  },
  {
   "cell_type": "code",
   "execution_count": 6,
   "metadata": {},
   "outputs": [
    {
     "name": "stdout",
     "output_type": "stream",
     "text": [
      "Model: \"model_1\"\n",
      "_________________________________________________________________\n",
      "Layer (type)                 Output Shape              Param #   \n",
      "=================================================================\n",
      "input_1 (InputLayer)         (None, 150, 150, 3)       0         \n",
      "_________________________________________________________________\n",
      "conv2d_1 (Conv2D)            (None, 150, 150, 16)      448       \n",
      "_________________________________________________________________\n",
      "conv2d_2 (Conv2D)            (None, 150, 150, 16)      2320      \n",
      "_________________________________________________________________\n",
      "max_pooling2d_1 (MaxPooling2 (None, 75, 75, 16)        0         \n",
      "_________________________________________________________________\n",
      "separable_conv2d_1 (Separabl (None, 75, 75, 32)        688       \n",
      "_________________________________________________________________\n",
      "separable_conv2d_2 (Separabl (None, 75, 75, 32)        1344      \n",
      "_________________________________________________________________\n",
      "batch_normalization_1 (Batch (None, 75, 75, 32)        128       \n",
      "_________________________________________________________________\n",
      "max_pooling2d_2 (MaxPooling2 (None, 37, 37, 32)        0         \n",
      "_________________________________________________________________\n",
      "separable_conv2d_3 (Separabl (None, 37, 37, 64)        2400      \n",
      "_________________________________________________________________\n",
      "separable_conv2d_4 (Separabl (None, 37, 37, 64)        4736      \n",
      "_________________________________________________________________\n",
      "batch_normalization_2 (Batch (None, 37, 37, 64)        256       \n",
      "_________________________________________________________________\n",
      "max_pooling2d_3 (MaxPooling2 (None, 18, 18, 64)        0         \n",
      "_________________________________________________________________\n",
      "separable_conv2d_5 (Separabl (None, 18, 18, 128)       8896      \n",
      "_________________________________________________________________\n",
      "separable_conv2d_6 (Separabl (None, 18, 18, 128)       17664     \n",
      "_________________________________________________________________\n",
      "batch_normalization_3 (Batch (None, 18, 18, 128)       512       \n",
      "_________________________________________________________________\n",
      "max_pooling2d_4 (MaxPooling2 (None, 9, 9, 128)         0         \n",
      "_________________________________________________________________\n",
      "dropout_1 (Dropout)          (None, 9, 9, 128)         0         \n",
      "_________________________________________________________________\n",
      "separable_conv2d_7 (Separabl (None, 9, 9, 256)         34176     \n",
      "_________________________________________________________________\n",
      "separable_conv2d_8 (Separabl (None, 9, 9, 256)         68096     \n",
      "_________________________________________________________________\n",
      "batch_normalization_4 (Batch (None, 9, 9, 256)         1024      \n",
      "_________________________________________________________________\n",
      "max_pooling2d_5 (MaxPooling2 (None, 4, 4, 256)         0         \n",
      "_________________________________________________________________\n",
      "dropout_2 (Dropout)          (None, 4, 4, 256)         0         \n",
      "_________________________________________________________________\n",
      "flatten_1 (Flatten)          (None, 4096)              0         \n",
      "_________________________________________________________________\n",
      "dense_1 (Dense)              (None, 512)               2097664   \n",
      "_________________________________________________________________\n",
      "dropout_3 (Dropout)          (None, 512)               0         \n",
      "_________________________________________________________________\n",
      "dense_2 (Dense)              (None, 128)               65664     \n",
      "_________________________________________________________________\n",
      "dropout_4 (Dropout)          (None, 128)               0         \n",
      "_________________________________________________________________\n",
      "dense_3 (Dense)              (None, 64)                8256      \n",
      "_________________________________________________________________\n",
      "dropout_5 (Dropout)          (None, 64)                0         \n",
      "_________________________________________________________________\n",
      "dense_4 (Dense)              (None, 1)                 65        \n",
      "=================================================================\n",
      "Total params: 2,314,337\n",
      "Trainable params: 2,313,377\n",
      "Non-trainable params: 960\n",
      "_________________________________________________________________\n"
     ]
    }
   ],
   "source": [
    "model.summary()"
   ]
  },
  {
   "cell_type": "markdown",
   "metadata": {},
   "source": [
    "## Fit model to data"
   ]
  },
  {
   "cell_type": "code",
   "execution_count": 7,
   "metadata": {},
   "outputs": [
    {
     "name": "stdout",
     "output_type": "stream",
     "text": [
      "Epoch 1/10\n",
      "163/163 [==============================] - 123s 755ms/step - loss: 0.3732 - accuracy: 0.8265 - val_loss: 0.9685 - val_accuracy: 0.5000\n",
      "\n",
      "Epoch 00001: val_loss improved from inf to 0.96855, saving model to ./weights.hdf5\n",
      "Epoch 2/10\n",
      "163/163 [==============================] - 120s 737ms/step - loss: 0.2710 - accuracy: 0.8907 - val_loss: 1.6153 - val_accuracy: 0.5000\n",
      "\n",
      "Epoch 00002: val_loss did not improve from 0.96855\n",
      "Epoch 3/10\n",
      "163/163 [==============================] - 121s 739ms/step - loss: 0.2166 - accuracy: 0.9197 - val_loss: 1.9994 - val_accuracy: 0.5000\n",
      "\n",
      "Epoch 00003: val_loss did not improve from 0.96855\n",
      "\n",
      "Epoch 00003: ReduceLROnPlateau reducing learning rate to 0.0003000000142492354.\n",
      "Epoch 4/10\n",
      "163/163 [==============================] - 120s 733ms/step - loss: 0.1833 - accuracy: 0.9302 - val_loss: 3.0052 - val_accuracy: 0.5000\n",
      "\n",
      "Epoch 00004: val_loss did not improve from 0.96855\n",
      "Epoch 5/10\n",
      "163/163 [==============================] - 120s 736ms/step - loss: 0.1610 - accuracy: 0.9402 - val_loss: 1.1142 - val_accuracy: 0.5625\n",
      "\n",
      "Epoch 00005: val_loss did not improve from 0.96855\n",
      "Epoch 6/10\n",
      "163/163 [==============================] - 119s 729ms/step - loss: 0.1536 - accuracy: 0.9429 - val_loss: 0.9969 - val_accuracy: 0.6250\n",
      "\n",
      "Epoch 00006: val_loss did not improve from 0.96855\n",
      "Epoch 7/10\n",
      "163/163 [==============================] - 119s 729ms/step - loss: 0.1449 - accuracy: 0.9490 - val_loss: 1.6933 - val_accuracy: 0.6250\n",
      "\n",
      "Epoch 00007: val_loss did not improve from 0.96855\n",
      "Epoch 8/10\n",
      "163/163 [==============================] - 120s 736ms/step - loss: 0.1444 - accuracy: 0.9482 - val_loss: 0.9568 - val_accuracy: 0.6875\n",
      "\n",
      "Epoch 00008: val_loss improved from 0.96855 to 0.95676, saving model to ./weights.hdf5\n",
      "Epoch 9/10\n",
      "163/163 [==============================] - 121s 740ms/step - loss: 0.1379 - accuracy: 0.9498 - val_loss: 0.8721 - val_accuracy: 0.6875\n",
      "\n",
      "Epoch 00009: val_loss improved from 0.95676 to 0.87215, saving model to ./weights.hdf5\n",
      "Epoch 10/10\n",
      "163/163 [==============================] - 117s 717ms/step - loss: 0.1469 - accuracy: 0.9459 - val_loss: 1.5520 - val_accuracy: 0.6250\n",
      "\n",
      "Epoch 00010: val_loss did not improve from 0.87215\n",
      "\n",
      "Epoch 00010: ReduceLROnPlateau reducing learning rate to 9.000000427477062e-05.\n"
     ]
    }
   ],
   "source": [
    "checkpoint = ModelCheckpoint(filepath = './weights.hdf5', save_best_only = True, save_weights_only = True, verbose = 1)\n",
    "lr_reduce = ReduceLROnPlateau(monitor = 'val_accuracy', mode = 'max', factor = 0.3, patience = 2, verbose = 1)\n",
    "\n",
    "history = model.fit_generator(\n",
    "    train_gen,\n",
    "    steps_per_epoch = train_steps, \n",
    "    epochs = epochs,\n",
    "    validation_data = val_gen, \n",
    "    validation_steps = val_steps,\n",
    "    callbacks = [checkpoint, lr_reduce])"
   ]
  },
  {
   "cell_type": "markdown",
   "metadata": {},
   "source": [
    "## Evaluate performance\n",
    "\n",
    "- Training accuracy and loss\n",
    "- Confusion matrix\n",
    "- Various metrics"
   ]
  },
  {
   "cell_type": "code",
   "execution_count": 8,
   "metadata": {},
   "outputs": [
    {
     "data": {
      "image/png": "[encoded data removed]",
      "text/plain": [
       "<Figure size 432x288 with 1 Axes>"
      ]
     },
     "metadata": {
      "needs_background": "light"
     },
     "output_type": "display_data"
    },
    {
     "data": {
      "image/png": "[encoded data removed]",
      "text/plain": [
       "<Figure size 432x288 with 1 Axes>"
      ]
     },
     "metadata": {
      "needs_background": "light"
     },
     "output_type": "display_data"
    }
   ],
   "source": [
    "plt.plot(history.history['accuracy'])\n",
    "plt.plot(history.history['val_accuracy'])\n",
    "plt.title('model accuracy')\n",
    "plt.ylabel('accuracy')\n",
    "plt.xlabel('epoch')\n",
    "plt.legend(['train', 'test'], loc='upper left')\n",
    "plt.show()\n",
    "\n",
    "plt.plot(history.history['loss'])\n",
    "plt.plot(history.history['val_loss'])\n",
    "plt.title('model loss')\n",
    "plt.ylabel('loss')\n",
    "plt.xlabel('epoch')\n",
    "plt.legend(['train', 'test'], loc='upper left')\n",
    "plt.show()"
   ]
  },
  {
   "cell_type": "code",
   "execution_count": 10,
   "metadata": {},
   "outputs": [
    {
     "data": {
      "image/png": "[encoded data removed]",
      "text/plain": [
       "<Figure size 504x504 with 1 Axes>"
      ]
     },
     "metadata": {
      "needs_background": "light"
     },
     "output_type": "display_data"
    },
    {
     "name": "stdout",
     "output_type": "stream",
     "text": [
      "Precision = (True Positive)/(True Positive + False Positive)\n",
      "\t= (363)/(363 + 31)\n",
      "\t= 92.132%\n",
      "\n",
      "Recall = (True Positive)/(True Positive + False Negative)\n",
      "\t= (363)/(363 + 27)\n",
      "\t= 93.0769%\n",
      "\n",
      "Accuracy = (True Positive + True Negative)/(All Predictions)\n",
      "\t= (363 + 203)/(363 + 27 + 31 + 203)\n",
      "\t= 90.7051%\n",
      "\n",
      "F1 Score = (2 * Precision * Recall)/(Precision + Recall)\n",
      "\t= 92.602%\n",
      "\n",
      "Training Accuracy = 94.5936%\n",
      "\n",
      "════════════════════════════════════════════════════════\n",
      "\n",
      "92.13% of the samples that the model classifies as pneumonia actually have pneumonia.\n",
      "\n",
      "93.08% of the samples that exhibit symptoms of pneumonia are predicted correctly.\n",
      "\n",
      "90.71% of all predictions are correct.\n"
     ]
    }
   ],
   "source": [
    "model.load_weights('weights.hdf5')\n",
    "preds = model.predict(test_data)\n",
    "\n",
    "CM = confusion_matrix(test_labels, np.round(preds))\n",
    "\n",
    "plot_confusion_matrix(CM ,  figsize = (7, 7))\n",
    "plt.show()\n",
    "\n",
    "precision = (CM[1][1]/(CM[1][1] + CM[0][1]))\n",
    "print('Precision = (True Positive)/(True Positive + False Positive)\\n\\t= ({})/({} + {})\\n\\t= {}%'\\\n",
    "      .format(CM[1][1], CM[1][1], CM[0][1],\\\n",
    "             round(100 * precision, 4)))\n",
    "\n",
    "recall = (CM[1][1]/(CM[1][1] + CM[1][0]))\n",
    "print('\\nRecall = (True Positive)/(True Positive + False Negative)\\n\\t= ({})/({} + {})\\n\\t= {}%'\\\n",
    "      .format(CM[1][1], CM[1][1], CM[1][0],\\\n",
    "             round(100 * recall, 4)))\n",
    "\n",
    "accuracy = (CM[1][1] + CM[0][0])/(CM[1][1] + CM[1][0] + CM[0][1] + CM[0][0])\n",
    "print('\\nAccuracy = (True Positive + True Negative)/(All Predictions)\\n\\t= ({} + {})/({} + {} + {} + {})\\n\\t= {}%'\\\n",
    "      .format(CM[1][1], CM[0][0], CM[1][1], CM[1][0], CM[0][1], CM[0][0],\\\n",
    "             round(100 * accuracy, 4)))\n",
    "\n",
    "print('\\nF1 Score = (2 * Precision * Recall)/(Precision + Recall)\\n\\t= {}%'\\\n",
    "     .format(round((100 * 2 * precision * recall)/(precision + recall), 4)))\n",
    "\n",
    "print('\\nTraining Accuracy = {}%'\\\n",
    "     .format(round(100 * history.history['accuracy'][-1], 4)))\n",
    "\n",
    "print(\"\\n════════════════════════════════════════════════════════\")\n",
    "print('\\n{}% of the samples that the model classifies as pneumonia actually have pneumonia.'\\\n",
    "      .format(round(100 * precision, 2)))\n",
    "\n",
    "print('\\n{}% of the samples that exhibit symptoms of pneumonia are predicted correctly.'\\\n",
    "      .format(round(100 * recall, 2)))\n",
    "\n",
    "print('\\n{}% of all predictions are correct.'\\\n",
    "      .format(round(100 * accuracy, 2)))"
   ]
  },
  {
   "cell_type": "code",
   "execution_count": null,
   "metadata": {},
   "outputs": [],
   "source": []
  }
 ],
 "metadata": {
  "kernelspec": {
   "display_name": "Python 3",
   "language": "python",
   "name": "python3"
  },
  "language_info": {
   "codemirror_mode": {
    "name": "ipython",
    "version": 3
   },
   "file_extension": ".py",
   "mimetype": "text/x-python",
   "name": "python",
   "nbconvert_exporter": "python",
   "pygments_lexer": "ipython3",
   "version": "3.6.8"
  }
 },
 "nbformat": 4,
 "nbformat_minor": 1
}
